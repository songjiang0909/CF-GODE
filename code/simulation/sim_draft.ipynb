{
 "cells": [
  {
   "cell_type": "code",
   "execution_count": 1,
   "metadata": {},
   "outputs": [],
   "source": [
    "import numpy as np\n",
    "from scipy.stats import truncnorm\n",
    "from simulation_utils import *"
   ]
  },
  {
   "cell_type": "code",
   "execution_count": 5,
   "metadata": {},
   "outputs": [],
   "source": [
    "gamma_a = 1\n",
    "gamma_n = 1/2.0\n",
    "delta_a = 5\n",
    "delta_n = 5\n",
    "num_time_steps = 15\n",
    "num_units= 30\n",
    "window_size = 5\n",
    "treatment_dosage = 1\n",
    "drug_half_life = 1\n",
    "\n",
    "global_min = 0.1\n",
    "global_max = 10\n",
    "\n",
    "\n",
    "K = 10\n",
    "rho = -0.001\n",
    "beta_c = 0.03\n",
    "beta_n = beta_c/3.0\n",
    "\n",
    "ratio = 1.0\n",
    "dataset = \"Flickr\""
   ]
  },
  {
   "cell_type": "code",
   "execution_count": 6,
   "metadata": {},
   "outputs": [],
   "source": [
    "def sigmod(x):\n",
    "    return 1/(1 + np.exp(-x))"
   ]
  },
  {
   "cell_type": "code",
   "execution_count": 7,
   "metadata": {},
   "outputs": [
    {
     "name": "stdout",
     "output_type": "stream",
     "text": [
      "Size of train graph:1591, val graph:2526, test graph:1763\n",
      "<class 'numpy.ndarray'>\n",
      "Shape of adj matrix train:(1591, 1591), val:(2526, 2526), test:(1763, 1763)\n"
     ]
    }
   ],
   "source": [
    "data,parts = read_data_debug(dataset)\n",
    "train_index,val_index,test_index = data_split(parts)\n",
    "train_A, val_A, test_A = adj_split(data,train_index,val_index,test_index,dataset)"
   ]
  },
  {
   "cell_type": "code",
   "execution_count": null,
   "metadata": {},
   "outputs": [],
   "source": [
    "num_units = train_A.shape[0]\n",
    "adj = train_A"
   ]
  },
  {
   "cell_type": "code",
   "execution_count": null,
   "metadata": {},
   "outputs": [],
   "source": [
    "# Patient cancer stage. (mu, sigma, lower bound, upper bound) - for lognormal dist\n",
    "health_stages_stats = {\n",
    "    \"I\": (1.5, 1, global_min, 3),\n",
    "    \"II\": (4.5, 1, 3, 6),\n",
    "    \"III\": (8, 1, 6, global_max),\n",
    "}\n",
    "possible_stages = list(health_stages_stats.keys())\n",
    "possible_stages.sort()\n",
    "initial_stages = np.random.choice(possible_stages,num_units)\n",
    "\n",
    "initial_health = []\n",
    "for i in range(num_units):\n",
    "    stg = initial_stages[i]\n",
    "    mu, sigma, lower_bound, upper_bound = health_stages_stats[stg]\n",
    "    initial_health_by_stage = np.random.normal(mu, sigma, 1)[0]\n",
    "    if initial_health_by_stage<lower_bound:\n",
    "        initial_health_by_stage = lower_bound\n",
    "    elif initial_health_by_stage>upper_bound:\n",
    "        initial_health_by_stage = upper_bound\n",
    "    initial_health.append(initial_health_by_stage)\n",
    "\n",
    "\n",
    "health_condition = np.zeros((num_units, num_time_steps))\n",
    "health_condition[:,0] = initial_health\n",
    "\n",
    "cf_health_condition = np.zeros((num_units, num_time_steps))\n",
    "cf_health_condition[:,0] = initial_health\n"
   ]
  },
  {
   "cell_type": "code",
   "execution_count": null,
   "metadata": {},
   "outputs": [],
   "source": [
    "treatment_probs = np.zeros((num_units, num_time_steps))\n",
    "treatment_application_rvs = np.random.rand(num_units, num_time_steps)\n",
    "\n",
    "action_application_point = np.zeros((num_units, num_time_steps))\n",
    "avg_neighbor_action_application = np.zeros((num_units, num_time_steps))\n",
    "action_dosage = np.zeros((num_units, num_time_steps))\n",
    "avg_neighbor_action_dosage = np.zeros((num_units, num_time_steps))\n",
    "\n",
    "avg_health_used_for_all = np.zeros((num_units, num_time_steps))\n",
    "avg_neighbor_health_used_for_all = np.zeros((num_units, num_time_steps))\n",
    "\n",
    "noise_terms = 0.01 * np.random.randn(num_units,num_time_steps) \n",
    "for t in range(0, num_time_steps - 1):\n",
    "    for i in range(num_units):\n",
    "        health_used = health_condition[i, max(t - window_size, 0) : t + 1]\n",
    "        avg_health_used_for_all[i][t] = np.array([health for health in health_used]).mean()\n",
    "    temp = np.matmul(adj,avg_health_used_for_all[:,t])\n",
    "    nei_sum = np.sum(adj,1)\n",
    "    avg_neighbor_health_t = np.divide(temp,nei_sum)\n",
    "    avg_neighbor_health_used_for_all[:,t] = avg_neighbor_health_t\n",
    "\n",
    "    for i in range(num_units):\n",
    "        current_dose = 0.0\n",
    "        previous_dose = 0.0 if t == 0 else action_dosage[i, t - 1]\n",
    "\n",
    "        health_used = health_condition[i, max(t - window_size, 0) : t + 1]\n",
    "        avg_health_used = np.array([health for health in health_used]).mean()\n",
    "        avg_neighbor_health_used = avg_neighbor_health_used_for_all[i][t]\n",
    "\n",
    "        treatment_prob_t = sigmod(-1*(gamma_a*(avg_health_used-delta_a)+gamma_n*(avg_neighbor_health_used-delta_n)))\n",
    "        treatment_probs[i, t] = treatment_prob_t\n",
    "\n",
    "        if treatment_application_rvs[i, t] < treatment_prob_t:\n",
    "            action_application_point[i, t] = 1\n",
    "            current_dose = treatment_dosage\n",
    "\n",
    "        # Update chemo dosage\n",
    "        action_dosage[i, t] = previous_dose * np.exp(-np.log(2) / drug_half_life)+ current_dose\n",
    "\n",
    "    for i in range(num_units):\n",
    "        temp = np.matmul(adj,action_dosage[:,t])\n",
    "        nei_sum = np.sum(adj,1)\n",
    "        avg_neighbor_dosage = np.divide(temp,nei_sum)\n",
    "        avg_neighbor_action_dosage[:,t] = avg_neighbor_dosage\n",
    "\n",
    "    for i in range(num_units):\n",
    "        temp = np.matmul(adj,action_application_point[:,t])\n",
    "        nei_sum = np.sum(adj,1)\n",
    "        avg_neighbor_treatment = np.divide(temp,nei_sum)\n",
    "        avg_neighbor_action_application[:,t] = avg_neighbor_treatment\n",
    "\n",
    "    for i in range(num_units):\n",
    "\n",
    "        health_condition[i, t + 1] = health_condition[i, t] * (\n",
    "            1\n",
    "            +rho * np.log10(K / health_condition[i, t])\n",
    "            + beta_c * action_dosage[i, t]\n",
    "            + (beta_n * avg_neighbor_action_dosage[i, t])\n",
    "            + noise_terms[i][t]\n",
    "        ) \n",
    "\n",
    "        if  health_condition[i, t + 1] > global_max:\n",
    "            health_condition[i, t + 1] = global_max\n",
    "        if  health_condition[i, t + 1] < global_min:\n",
    "            health_condition[i, t + 1] = global_min"
   ]
  },
  {
   "cell_type": "code",
   "execution_count": null,
   "metadata": {},
   "outputs": [],
   "source": [
    "cf_action_application_point = np.zeros((num_units, num_time_steps))\n",
    "cf_avg_neighbor_action_application = np.zeros((num_units, num_time_steps))\n",
    "\n",
    "\n",
    "r,c = action_application_point.shape\n",
    "flip_mask = 1.0*(np.random.rand(r,c)<=ratio)\n",
    "for ii in range(r):\n",
    "    for jj in range(c):\n",
    "        if flip_mask[ii][jj]==1:\n",
    "            cf_action_application_point[ii][jj] = action_application_point[ii][jj]*-1+1\n",
    "        else:\n",
    "            cf_action_application_point[ii][jj] = action_application_point[ii][jj]\n",
    "\n",
    "\n",
    "cf_action_dosage = np.zeros((num_units, num_time_steps))\n",
    "cf_avg_neighbor_action_dosage = np.zeros((num_units, num_time_steps))\n",
    "\n",
    "cf_noise_terms = 0.01 * np.random.randn(num_units,num_time_steps) \n",
    "\n",
    "for t in range(0, num_time_steps - 1):\n",
    "\n",
    "\n",
    "    for i in range(num_units):\n",
    "        current_dose = 0.0\n",
    "        previous_dose = 0.0 if t == 0 else cf_action_dosage[i, t - 1]\n",
    "\n",
    "        if cf_action_application_point[i, t] ==1:\n",
    "            current_dose = treatment_dosage\n",
    "\n",
    "        # Update chemo dosage\n",
    "        cf_action_dosage[i, t] = previous_dose * np.exp(-np.log(2) / drug_half_life)+ current_dose\n",
    "\n",
    "    for i in range(num_units):\n",
    "        temp = np.matmul(adj,cf_action_dosage[:,t])\n",
    "        nei_sum = np.sum(adj,1)\n",
    "        cf_avg_neighbor_dosage = np.divide(temp,nei_sum)\n",
    "        cf_avg_neighbor_action_dosage[:,t] = cf_avg_neighbor_dosage\n",
    "\n",
    "    for i in range(num_units):\n",
    "        temp = np.matmul(adj,cf_action_application_point[:,t])\n",
    "        nei_sum = np.sum(adj,1)\n",
    "        cf_avg_neighbor_treatment = np.divide(temp,nei_sum)\n",
    "        cf_avg_neighbor_action_application[:,t] = cf_avg_neighbor_treatment\n",
    "\n",
    "\n",
    "    for i in range(num_units):\n",
    "\n",
    "        cf_health_condition[i, t + 1] = cf_health_condition[i, t] * (\n",
    "            1\n",
    "            +rho * np.log10(K / cf_health_condition[i, t])\n",
    "            + beta_c * cf_action_dosage[i, t]\n",
    "            + (beta_n * cf_avg_neighbor_action_dosage[i, t])\n",
    "            + cf_noise_terms[i][t]\n",
    "        ) \n",
    "\n",
    "        if  cf_health_condition[i, t + 1] > global_max:\n",
    "            cf_health_condition[i, t + 1] = global_max\n",
    "        if  cf_health_condition[i, t + 1] < global_min:\n",
    "            cf_health_condition[i, t + 1] = global_min"
   ]
  },
  {
   "cell_type": "code",
   "execution_count": null,
   "metadata": {},
   "outputs": [],
   "source": [
    "outputs = {\n",
    "    \"health_condition\": health_condition,\n",
    "    \"action_dosage\": action_dosage,\n",
    "    \"avg_neighbor_action_dosage\": avg_neighbor_action_dosage,\n",
    "    \"action_application_point\": action_application_point,\n",
    "    \"treatment_probs\": treatment_probs,\n",
    "    \"noise_terms\":noise_terms,\n",
    "    \"cf_health_condition\": cf_health_condition,\n",
    "    \"cf_action_application_point\":cf_action_application_point,\n",
    "    \"cf_avg_neighbor_action_application\":cf_avg_neighbor_action_application,\n",
    "}"
   ]
  },
  {
   "cell_type": "code",
   "execution_count": null,
   "metadata": {},
   "outputs": [],
   "source": [
    "def get_scaling_params(sim):\n",
    "    real_idx = [\"health_condition\", \"action_dosage\", \"avg_neighbor_action_dosage\"]\n",
    "\n",
    "    means = {}\n",
    "    stds = {}\n",
    "    for k in real_idx:\n",
    "        means[k] = np.mean(sim[k])\n",
    "        stds[k] = np.std(sim[k])\n",
    "    \n",
    "    sim[\"mean\"] = means\n",
    "    sim[\"std\"] = stds\n",
    "\n",
    "    return sim"
   ]
  },
  {
   "cell_type": "code",
   "execution_count": null,
   "metadata": {},
   "outputs": [],
   "source": [
    "outputs = get_scaling_params(outputs)\n",
    "save_sim_debug(dataset,outputs)"
   ]
  },
  {
   "cell_type": "code",
   "execution_count": null,
   "metadata": {},
   "outputs": [],
   "source": [
    "outputs[\"mean\"].keys()"
   ]
  },
  {
   "cell_type": "code",
   "execution_count": null,
   "metadata": {},
   "outputs": [],
   "source": [
    "np.mean(np.abs(action_application_point-cf_action_application_point))"
   ]
  },
  {
   "cell_type": "code",
   "execution_count": null,
   "metadata": {},
   "outputs": [],
   "source": [
    "np.mean(cf_health_condition[:,0]-health_condition[:,0])"
   ]
  },
  {
   "cell_type": "code",
   "execution_count": null,
   "metadata": {},
   "outputs": [],
   "source": [
    "np.mean(np.abs(cf_health_condition-health_condition)**2)"
   ]
  },
  {
   "cell_type": "code",
   "execution_count": null,
   "metadata": {},
   "outputs": [],
   "source": [
    "avg_neighbor_health_used_for_all"
   ]
  },
  {
   "cell_type": "code",
   "execution_count": null,
   "metadata": {},
   "outputs": [],
   "source": [
    "treatment_application_rvs"
   ]
  },
  {
   "cell_type": "code",
   "execution_count": null,
   "metadata": {},
   "outputs": [],
   "source": [
    "treatment_probs"
   ]
  },
  {
   "cell_type": "code",
   "execution_count": null,
   "metadata": {},
   "outputs": [],
   "source": [
    "action_dosage"
   ]
  },
  {
   "cell_type": "code",
   "execution_count": null,
   "metadata": {},
   "outputs": [],
   "source": [
    "avg_neighbor_action_dosage"
   ]
  },
  {
   "cell_type": "code",
   "execution_count": null,
   "metadata": {},
   "outputs": [],
   "source": [
    "health_condition"
   ]
  },
  {
   "cell_type": "code",
   "execution_count": null,
   "metadata": {},
   "outputs": [],
   "source": [
    "cf_health_condition"
   ]
  }
 ],
 "metadata": {
  "kernelspec": {
   "display_name": "Python 3",
   "language": "python",
   "name": "python3"
  },
  "language_info": {
   "codemirror_mode": {
    "name": "ipython",
    "version": 3
   },
   "file_extension": ".py",
   "mimetype": "text/x-python",
   "name": "python",
   "nbconvert_exporter": "python",
   "pygments_lexer": "ipython3",
   "version": "3.8.10"
  },
  "orig_nbformat": 4,
  "vscode": {
   "interpreter": {
    "hash": "e7370f93d1d0cde622a1f8e1c04877d8463912d04d973331ad4851f04de6915a"
   }
  }
 },
 "nbformat": 4,
 "nbformat_minor": 2
}
